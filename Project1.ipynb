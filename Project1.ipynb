{
 "cells": [
  {
   "cell_type": "code",
   "execution_count": 7,
   "id": "1b9c9bf0",
   "metadata": {
    "collapsed": true
   },
   "outputs": [
    {
     "name": "stdout",
     "output_type": "stream",
     "text": [
      "Collecting mysql-connector-python\n",
      "  Downloading mysql_connector_python-8.0.26-cp39-cp39-win_amd64.whl (799 kB)\n",
      "Requirement already satisfied: protobuf>=3.0.0 in c:\\users\\dell\\anaconda3\\envs\\tf\\lib\\site-packages (from mysql-connector-python) (3.14.0)\n",
      "Requirement already satisfied: six>=1.9 in c:\\users\\dell\\anaconda3\\envs\\tf\\lib\\site-packages (from protobuf>=3.0.0->mysql-connector-python) (1.16.0)\n",
      "Installing collected packages: mysql-connector-python\n",
      "Successfully installed mysql-connector-python-8.0.26\n"
     ]
    }
   ],
   "source": [
    "!pip install mysql-connector-python"
   ]
  },
  {
   "cell_type": "code",
   "execution_count": 1,
   "id": "4d0cd905",
   "metadata": {
    "scrolled": true
   },
   "outputs": [],
   "source": [
    "# importing necessary libraries\n",
    "import mysql.connector\n",
    "import pandas as pd"
   ]
  },
  {
   "cell_type": "code",
   "execution_count": 2,
   "id": "f3ab6019",
   "metadata": {},
   "outputs": [],
   "source": [
    "# connecting mysql server\n",
    "database = mysql.connector.connect(host=\"localhost\",user=\"root\",passwd= \"Pooja@123\",database=\"mydata\")\n",
    "cursor = database.cursor()\n",
    "query2 = \"select*from customers\""
   ]
  },
  {
   "cell_type": "code",
   "execution_count": 3,
   "id": "87ebe644",
   "metadata": {},
   "outputs": [],
   "source": [
    "cursor.execute(query2)"
   ]
  },
  {
   "cell_type": "code",
   "execution_count": 4,
   "id": "1d7fafaa",
   "metadata": {},
   "outputs": [],
   "source": [
    "table_rows = cursor.fetchall()"
   ]
  },
  {
   "cell_type": "code",
   "execution_count": 6,
   "id": "1b86d55c",
   "metadata": {},
   "outputs": [
    {
     "name": "stdout",
     "output_type": "stream",
     "text": [
      "   cust_ID       Nam   Open_date  Consult_dt VAC_ID   Dr_Name State Country  \\\n",
      "0      123    Akshay  2021-09-01  2022-09-02    CSD     Kedar    MH     IND   \n",
      "1      211            2021-08-05  2022-08-05    CSD  Narendra    MH     IND   \n",
      "2      456     Pooja  2021-09-05  2022-10-05    CSD      Jiza    MH     IND   \n",
      "3      678  Narendra  2021-10-11  2022-10-11    CSD      Jiza    MH     IND   \n",
      "4      789     Pooja  2021-05-07  2022-05-07    CSD  Narendra    MH     IND   \n",
      "\n",
      "          DOB Active  \n",
      "0  1994-07-04      A  \n",
      "1  1995-08-04      A  \n",
      "2  1994-11-04      A  \n",
      "3  1996-07-04      B  \n",
      "4  1993-02-01      B  \n"
     ]
    }
   ],
   "source": [
    "df = pd.read_sql('SELECT * FROM customers', con=database) \n",
    "print(df)"
   ]
  },
  {
   "cell_type": "code",
   "execution_count": 7,
   "id": "1b6524a2",
   "metadata": {
    "scrolled": true
   },
   "outputs": [
    {
     "name": "stdout",
     "output_type": "stream",
     "text": [
      "              Nam   Open_date  Consult_dt VAC_ID   Dr_Name State Country  \\\n",
      "cust_ID                                                                    \n",
      "123        Akshay  2021-09-01  2022-09-02    CSD     Kedar    MH     IND   \n",
      "211                2021-08-05  2022-08-05    CSD  Narendra    MH     IND   \n",
      "456         Pooja  2021-09-05  2022-10-05    CSD      Jiza    MH     IND   \n",
      "678      Narendra  2021-10-11  2022-10-11    CSD      Jiza    MH     IND   \n",
      "789         Pooja  2021-05-07  2022-05-07    CSD  Narendra    MH     IND   \n",
      "\n",
      "                DOB Active  \n",
      "cust_ID                     \n",
      "123      1994-07-04      A  \n",
      "211      1995-08-04      A  \n",
      "456      1994-11-04      A  \n",
      "678      1996-07-04      B  \n",
      "789      1993-02-01      B  \n"
     ]
    }
   ],
   "source": [
    "df.set_index(['cust_ID'], inplace=True)  # setting default index\n",
    "print (df)"
   ]
  },
  {
   "cell_type": "code",
   "execution_count": 8,
   "id": "e557343a",
   "metadata": {},
   "outputs": [],
   "source": [
    "ans = df.loc[df['Country'] == \"IND\"]"
   ]
  },
  {
   "cell_type": "code",
   "execution_count": 9,
   "id": "28dec2c9",
   "metadata": {},
   "outputs": [],
   "source": [
    "def show_data(country):\n",
    "    data = df.loc[df['Country'] == country]\n",
    "    print(data)"
   ]
  },
  {
   "cell_type": "code",
   "execution_count": 12,
   "id": "58e22c50",
   "metadata": {},
   "outputs": [],
   "source": [
    "def get_file(country):\n",
    "    data = df.loc[df['Country'] == country]\n",
    "    file_name = str(country)\n",
    "    data.to_csv('C:/Users/DELL/Desktop/pooja/' + country + \".csv\")  \n",
    "    print(\"File has been created to the specified path\")\n"
   ]
  },
  {
   "cell_type": "code",
   "execution_count": 13,
   "id": "67ba8c21",
   "metadata": {},
   "outputs": [
    {
     "name": "stdout",
     "output_type": "stream",
     "text": [
      "              Nam   Open_date  Consult_dt VAC_ID   Dr_Name State Country  \\\n",
      "cust_ID                                                                    \n",
      "123        Akshay  2021-09-01  2022-09-02    CSD     Kedar    MH     IND   \n",
      "211                2021-08-05  2022-08-05    CSD  Narendra    MH     IND   \n",
      "456         Pooja  2021-09-05  2022-10-05    CSD      Jiza    MH     IND   \n",
      "678      Narendra  2021-10-11  2022-10-11    CSD      Jiza    MH     IND   \n",
      "789         Pooja  2021-05-07  2022-05-07    CSD  Narendra    MH     IND   \n",
      "\n",
      "                DOB Active  \n",
      "cust_ID                     \n",
      "123      1994-07-04      A  \n",
      "211      1995-08-04      A  \n",
      "456      1994-11-04      A  \n",
      "678      1996-07-04      B  \n",
      "789      1993-02-01      B  \n",
      "File has been created to the specified path\n"
     ]
    }
   ],
   "source": [
    "# calling functions\n",
    "\n",
    "show_data(\"IND\")\n",
    "get_file(\"IND\")"
   ]
  },
  {
   "cell_type": "code",
   "execution_count": null,
   "id": "cdbe2162",
   "metadata": {},
   "outputs": [],
   "source": []
  }
 ],
 "metadata": {
  "kernelspec": {
   "display_name": "Python 3",
   "language": "python",
   "name": "python3"
  },
  "language_info": {
   "codemirror_mode": {
    "name": "ipython",
    "version": 3
   },
   "file_extension": ".py",
   "mimetype": "text/x-python",
   "name": "python",
   "nbconvert_exporter": "python",
   "pygments_lexer": "ipython3",
   "version": "3.9.6"
  }
 },
 "nbformat": 4,
 "nbformat_minor": 5
}
